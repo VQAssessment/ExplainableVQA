{
 "cells": [
  {
   "cell_type": "code",
   "execution_count": 127,
   "id": "86b0eb71-d664-467f-9681-0e4d4264ad21",
   "metadata": {},
   "outputs": [],
   "source": [
    "import pickle as pkl\n",
    "import numpy as np\n",
    "from scipy.stats import norm\n",
    "import random"
   ]
  },
  {
   "cell_type": "code",
   "execution_count": 113,
   "id": "be54f775-ab64-4c4b-8b1f-34acc17161c1",
   "metadata": {},
   "outputs": [],
   "source": [
    "with open(\"dover_predictions/val-custom_mp4.pkl\",\"rb\") as f:\n",
    "    yfcc_part1 = pkl.load(f)\n",
    "\n",
    "with open(\"dover_predictions/val-custom_mp4_r.pkl\",\"rb\") as f:\n",
    "    yfcc_part2 = pkl.load(f)\n",
    "    \n",
    "yfcc_part1.update(yfcc_part2)\n",
    "yfcc = yfcc_part1\n",
    "\n",
    "\n",
    "with open(\"dover_predictions/dover_k400_train.pkl\",\"rb\") as f:\n",
    "    k400_train = pkl.load(f)\n",
    "    \n",
    "with open(\"dover_predictions/dover_k400_val.pkl\",\"rb\") as f:\n",
    "    k400_val = pkl.load(f)\n",
    "    \n",
    "k400_train.update(k400_val)\n",
    "k400 = k400_train"
   ]
  },
  {
   "cell_type": "code",
   "execution_count": 140,
   "id": "d44d5604-d400-4fbf-9178-bebb2f5801ab",
   "metadata": {},
   "outputs": [],
   "source": [
    "names_yfcc, technical_yfcc, aesthetic_yfcc = [], [], []\n",
    "for key, value in yfcc.items():\n",
    "    technical_yfcc += [value['technical']]\n",
    "    aesthetic_yfcc += [value['aesthetic']]\n",
    "    names_yfcc += [key]\n",
    "    \n",
    "names_k400, technical_k400, aesthetic_k400 = [], [], []\n",
    "for key, value in k400.items():\n",
    "    technical_k400 += [value['technical']]\n",
    "    aesthetic_k400 += [value['aesthetic']]\n",
    "    names_k400 += [key]"
   ]
  },
  {
   "cell_type": "code",
   "execution_count": 141,
   "id": "c34710d3-b316-4c14-936d-750b5856903f",
   "metadata": {},
   "outputs": [],
   "source": [
    "from matplotlib import pyplot as plt\n",
    "\n",
    "def rescale(pr, gt=None):\n",
    "    if gt is None:\n",
    "        print(np.mean(pr), np.std(pr))\n",
    "        pr = (pr - np.mean(pr)) / np.std(pr)\n",
    "    else:\n",
    "        print(np.mean(pr), np.std(pr), np.std(gt), np.mean(gt))\n",
    "        pr = ((pr - np.mean(pr)) / np.std(pr)) * np.std(gt) + np.mean(gt)\n",
    "    return pr"
   ]
  },
  {
   "cell_type": "code",
   "execution_count": 142,
   "id": "3484497c-2567-43da-94ba-0bf3977783a4",
   "metadata": {},
   "outputs": [
    {
     "data": {
      "image/png": "[encoded data removed]",
      "text/plain": [
       "<Figure size 432x288 with 1 Axes>"
      ]
     },
     "metadata": {
      "needs_background": "light"
     },
     "output_type": "display_data"
    }
   ],
   "source": [
    "u_k_t, bars_k, _ = plt.hist(technical_k400, bins=30) \n",
    "u_y_t, bars_y, _ = plt.hist(technical_yfcc, bins=30) "
   ]
  },
  {
   "cell_type": "code",
   "execution_count": 143,
   "id": "6199e078-cb1f-4be7-8051-3135e91d74e7",
   "metadata": {},
   "outputs": [
    {
     "data": {
      "image/png": "[encoded data removed]",
      "text/plain": [
       "<Figure size 432x288 with 1 Axes>"
      ]
     },
     "metadata": {
      "needs_background": "light"
     },
     "output_type": "display_data"
    }
   ],
   "source": [
    "u_k_a, bars_k, _ = plt.hist(aesthetic_k400, bins=30) \n",
    "u_y_a, bars_y, _ = plt.hist(aesthetic_yfcc, bins=30) "
   ]
  },
  {
   "cell_type": "code",
   "execution_count": 144,
   "id": "b56074a6-c730-4704-8ba0-30468f1d59d6",
   "metadata": {},
   "outputs": [],
   "source": [
    "def norm_samplers(length, total_size=1000):\n",
    "    #return np.array(range(length)) / length * 100\n",
    "    l = []\n",
    "    for i in range(1,length):\n",
    "        l.append(norm.pdf(i/length*6-3))\n",
    "    l = np.array(l)\n",
    "    return (l / l.sum() * total_size).astype(np.int64)"
   ]
  },
  {
   "cell_type": "code",
   "execution_count": 145,
   "id": "725cf83f-174c-486f-99f7-69c110bfe517",
   "metadata": {},
   "outputs": [],
   "source": [
    "sampler_k = norm_samplers(31,600)\n",
    "sampler_y = norm_samplers(31,800)"
   ]
  },
  {
   "cell_type": "code",
   "execution_count": 148,
   "id": "644118b9-1c11-44b0-ba8d-2f39fd3c90d9",
   "metadata": {},
   "outputs": [],
   "source": [
    "sampled_names_yfcc = []\n",
    "\n",
    "name_yfcc, technical_yfcc, aesthetic_yfcc = zip(*sorted(zip(names_yfcc, technical_yfcc, aesthetic_yfcc),key=lambda x:x[1]))\n",
    "\n",
    "start = 0\n",
    "for i, ui in enumerate(u_y_t):\n",
    "    ui = int(ui)\n",
    "    sampled_names_yfcc += random.sample(names_yfcc[start:start+ui], sampler_y[i])\n",
    "    start = start + ui\n",
    "    \n",
    "    \n",
    "names_yfcc, technical_yfcc, aesthetic_yfcc = zip(*sorted(zip(names_yfcc, technical_yfcc, aesthetic_yfcc),key=lambda x:x[1]))\n",
    "\n",
    "\n",
    "start = 0\n",
    "for i, ui in enumerate(u_y_a):\n",
    "    ui = int(ui)\n",
    "    sampled_names_yfcc += random.sample(names_yfcc[start:start+ui], sampler_y[i])\n",
    "    start = start + ui\n",
    "    \n",
    "sampled_names_yfcc = list(np.unique(sampled_names_yfcc))\n"
   ]
  },
  {
   "cell_type": "code",
   "execution_count": 154,
   "id": "e23a9794-cbac-4d2e-acc9-7376cdf61dfc",
   "metadata": {},
   "outputs": [],
   "source": [
    "sampled_names_k400 = []\n",
    "\n",
    "name_k400, technical_k400, aesthetic_k400 = zip(*sorted(zip(names_k400, technical_k400, aesthetic_k400),key=lambda x:x[1]))\n",
    "\n",
    "start = 0\n",
    "for i, ui in enumerate(u_y_t):\n",
    "    ui = int(ui)\n",
    "    sampled_names_k400 += random.sample(names_k400[start:start+ui], sampler_k[i])\n",
    "    start = start + ui\n",
    "    \n",
    "    \n",
    "names_k400, technical_k400, aesthetic_k400 = zip(*sorted(zip(names_k400, technical_k400, aesthetic_k400),key=lambda x:x[1]))\n",
    "\n",
    "\n",
    "start = 0\n",
    "for i, ui in enumerate(u_y_a):\n",
    "    ui = int(ui)\n",
    "    sampled_names_k400 += random.sample(names_k400[start:start+ui], sampler_k[i])\n",
    "    start = start + ui\n",
    "    \n",
    "sampled_names_k400 = list(np.unique(sampled_names_k400))"
   ]
  },
  {
   "cell_type": "code",
   "execution_count": 156,
   "id": "e03ac8c3-3a27-45e4-908d-b0f7973101f4",
   "metadata": {},
   "outputs": [
    {
     "data": {
      "text/plain": [
       "1566"
      ]
     },
     "execution_count": 156,
     "metadata": {},
     "output_type": "execute_result"
    }
   ],
   "source": [
    "len(sampled_names_yfcc)"
   ]
  },
  {
   "cell_type": "code",
   "execution_count": 158,
   "id": "dec7f927-5160-4a49-ab96-422e6a50b9ca",
   "metadata": {},
   "outputs": [],
   "source": [
    "with open(\"names_for_annotation.pkl\",\"wb\") as f:\n",
    "    pkl.dump({\"yfcc\": sampled_names_yfcc, \"k400\": sampled_names_k400}, f)"
   ]
  },
  {
   "cell_type": "code",
   "execution_count": null,
   "id": "46093899-546c-4472-87d6-df9d5ddf570e",
   "metadata": {},
   "outputs": [],
   "source": []
  }
 ],
 "metadata": {
  "kernelspec": {
   "display_name": "GPU_Debug",
   "language": "python",
   "name": "pt1.8v"
  },
  "language_info": {
   "codemirror_mode": {
    "name": "ipython",
    "version": 3
   },
   "file_extension": ".py",
   "mimetype": "text/x-python",
   "name": "python",
   "nbconvert_exporter": "python",
   "pygments_lexer": "ipython3",
   "version": "3.8.8"
  }
 },
 "nbformat": 4,
 "nbformat_minor": 5
}
